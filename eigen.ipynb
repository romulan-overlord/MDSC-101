{
 "cells": [
  {
   "cell_type": "code",
   "execution_count": 1,
   "metadata": {},
   "outputs": [],
   "source": [
    "import numpy as np"
   ]
  },
  {
   "cell_type": "code",
   "execution_count": 5,
   "metadata": {},
   "outputs": [],
   "source": [
    "ar = np.array([[0,1,3,0],\n",
    "                [-2,3,0,4],\n",
    "                [0,0,6,1],\n",
    "                [0,0,1,6]])"
   ]
  },
  {
   "cell_type": "code",
   "execution_count": 6,
   "metadata": {},
   "outputs": [
    {
     "data": {
      "text/plain": [
       "(array([1., 2., 7., 5.]),\n",
       " array([[-0.70710678, -0.4472136 ,  0.31747032, -0.06428243],\n",
       "        [-0.70710678, -0.89442719,  0.43652168,  0.83567165],\n",
       "        [ 0.        ,  0.        ,  0.59525684, -0.38569461],\n",
       "        [ 0.        ,  0.        ,  0.59525684,  0.38569461]]))"
      ]
     },
     "execution_count": 6,
     "metadata": {},
     "output_type": "execute_result"
    }
   ],
   "source": [
    "np.linalg.eig(ar)"
   ]
  },
  {
   "cell_type": "code",
   "execution_count": null,
   "metadata": {},
   "outputs": [],
   "source": [
    "dim = int(input('Enter dimension of the array: '))\n",
    "ar2 = []\n",
    "\n",
    "for i in range(dim):\n",
    "    temp = []\n",
    "    for j in range(dim):\n",
    "        temp.append(int(input(f'row {i} column {j}: ')))\n",
    "    ar2.append(temp)\n",
    "\n",
    "ar2 = np.array(ar2)\n",
    "eigen_values, eigen_vectors = np.linalg.eig(ar2)"
   ]
  },
  {
   "cell_type": "code",
   "execution_count": 7,
   "metadata": {},
   "outputs": [
    {
     "ename": "NameError",
     "evalue": "name 'eigen_values' is not defined",
     "output_type": "error",
     "traceback": [
      "\u001b[1;31m---------------------------------------------------------------------------\u001b[0m",
      "\u001b[1;31mNameError\u001b[0m                                 Traceback (most recent call last)",
      "Cell \u001b[1;32mIn[7], line 1\u001b[0m\n\u001b[1;32m----> 1\u001b[0m \u001b[39mprint\u001b[39m(\u001b[39mf\u001b[39m\u001b[39m'\u001b[39m\u001b[39mEigen Values: \u001b[39m\u001b[39m{\u001b[39;00meigen_values\u001b[39m}\u001b[39;00m\u001b[39m'\u001b[39m)\n\u001b[0;32m      2\u001b[0m \u001b[39mprint\u001b[39m(\u001b[39mf\u001b[39m\u001b[39m'\u001b[39m\u001b[39mEigen Vectors: \u001b[39m\u001b[39m{\u001b[39;00meigen_vectors\u001b[39m}\u001b[39;00m\u001b[39m'\u001b[39m)\n",
      "\u001b[1;31mNameError\u001b[0m: name 'eigen_values' is not defined"
     ]
    }
   ],
   "source": [
    "print(f'Eigen Values: {eigen_values}')\n",
    "print(f'Eigen Vectors: {eigen_vectors}')"
   ]
  },
  {
   "cell_type": "code",
   "execution_count": 7,
   "metadata": {},
   "outputs": [
    {
     "name": "stdout",
     "output_type": "stream",
     "text": [
      "With Matrix: [-4.89906948 -5.20829309 -8.12476358]\n",
      "With Eigen Value: [-4.89906948 -5.20829309 -8.12476358]\n",
      "With Matrix: [ 1.99867541 -1.55325937 -0.63922645]\n",
      "With Eigen Value: [ 1.99867541 -1.55325937 -0.63922645]\n",
      "With Matrix: [-0.06644438  0.17049457 -0.10773258]\n",
      "With Eigen Value: [-0.06644438  0.17049457 -0.10773258]\n"
     ]
    }
   ],
   "source": [
    "for i in range(dim):\n",
    "    t1 = ar2 @ eigen_vectors[:,i]\n",
    "    t2 = eigen_values[i] * eigen_vectors[:,i]\n",
    "    print(f'With Matrix: {t1}\\nWith Eigen Value: {t2}')"
   ]
  },
  {
   "cell_type": "markdown",
   "metadata": {},
   "source": [
    "# Singular value decomposition"
   ]
  },
  {
   "cell_type": "code",
   "execution_count": 8,
   "metadata": {},
   "outputs": [
    {
     "name": "stdout",
     "output_type": "stream",
     "text": [
      "for AAt, eigen values = [25.  9.]\n",
      "eigen vectors = [[ 0.70710678 -0.70710678]\n",
      " [ 0.70710678  0.70710678]]\n",
      "for AtA, eigen values = [2.5000000e+01 5.0324328e-15 9.0000000e+00]\n",
      "eigen vectors = [[-7.07106781e-01 -6.66666667e-01  2.35702260e-01]\n",
      " [-7.07106781e-01  6.66666667e-01 -2.35702260e-01]\n",
      " [-4.55680392e-17  3.33333333e-01  9.42809042e-01]]\n"
     ]
    }
   ],
   "source": [
    "A = np.array([[3,2,2],[2,3,-2]])\n",
    "\n",
    "eig1, U = np.linalg.eig(A @ A.T)\n",
    "eig2, V = np.linalg.eig(A.T @ A)\n",
    "\n",
    "print(f'for AAt, eigen values = {eig1}\\neigen vectors = {U}')\n",
    "print(f'for AtA, eigen values = {eig2}\\neigen vectors = {V}')\n"
   ]
  },
  {
   "cell_type": "code",
   "execution_count": 9,
   "metadata": {},
   "outputs": [
    {
     "data": {
      "text/plain": [
       "array([ 2.12132034, -2.12132034])"
      ]
     },
     "execution_count": 9,
     "metadata": {},
     "output_type": "execute_result"
    }
   ],
   "source": [
    "A @ V[:,2]"
   ]
  },
  {
   "cell_type": "code",
   "execution_count": 10,
   "metadata": {},
   "outputs": [
    {
     "data": {
      "text/plain": [
       "array([ 2.12132034, -2.12132034,  8.48528137])"
      ]
     },
     "execution_count": 10,
     "metadata": {},
     "output_type": "execute_result"
    }
   ],
   "source": [
    "9 * V[:,2]"
   ]
  },
  {
   "cell_type": "code",
   "execution_count": 11,
   "metadata": {},
   "outputs": [
    {
     "data": {
      "text/plain": [
       "(array([25.,  9.]),\n",
       " array([[ 0.70710678, -0.70710678],\n",
       "        [ 0.70710678,  0.70710678]]))"
      ]
     },
     "execution_count": 11,
     "metadata": {},
     "output_type": "execute_result"
    }
   ],
   "source": [
    "np.linalg.eig(A @ A.T)"
   ]
  },
  {
   "cell_type": "code",
   "execution_count": 12,
   "metadata": {},
   "outputs": [],
   "source": [
    "V = np.array([V[:, 0], V[:,2], V[:,1]])\n",
    "V = V.T"
   ]
  },
  {
   "cell_type": "code",
   "execution_count": 13,
   "metadata": {},
   "outputs": [
    {
     "name": "stdout",
     "output_type": "stream",
     "text": [
      "U shape: (2, 2)\n",
      "V shape: (3, 3)\n"
     ]
    }
   ],
   "source": [
    "print(f'U shape: {U.shape}\\nV shape: {V.shape}')"
   ]
  },
  {
   "cell_type": "code",
   "execution_count": 14,
   "metadata": {},
   "outputs": [
    {
     "name": "stdout",
     "output_type": "stream",
     "text": [
      "U=[[ 0.70710678 -0.70710678]\n",
      " [ 0.70710678  0.70710678]]\n",
      "lambda=[[5. 0. 0.]\n",
      " [0. 3. 0.]]\n",
      "V=[[-7.07106781e-01  2.35702260e-01 -6.66666667e-01]\n",
      " [-7.07106781e-01 -2.35702260e-01  6.66666667e-01]\n",
      " [-4.55680392e-17  9.42809042e-01  3.33333333e-01]]\n"
     ]
    }
   ],
   "source": [
    "lambda_ = np.array([[np.sqrt(eig1[0]),0,0], [0,np.sqrt(eig1[1]),0]])\n",
    "print(f'U={U}\\nlambda={lambda_}\\nV={V}')"
   ]
  },
  {
   "cell_type": "code",
   "execution_count": 15,
   "metadata": {},
   "outputs": [
    {
     "data": {
      "text/plain": [
       "array([[-3., -2., -2.],\n",
       "       [-2., -3.,  2.]])"
      ]
     },
     "execution_count": 15,
     "metadata": {},
     "output_type": "execute_result"
    }
   ],
   "source": [
    "U@lambda_@V.T"
   ]
  },
  {
   "cell_type": "code",
   "execution_count": 14,
   "metadata": {},
   "outputs": [
    {
     "data": {
      "text/plain": [
       "array([21.61513568, 45.38486432])"
      ]
     },
     "execution_count": 14,
     "metadata": {},
     "output_type": "execute_result"
    }
   ],
   "source": [
    "eig1"
   ]
  }
 ],
 "metadata": {
  "kernelspec": {
   "display_name": "Code",
   "language": "python",
   "name": "python3"
  },
  "language_info": {
   "codemirror_mode": {
    "name": "ipython",
    "version": 3
   },
   "file_extension": ".py",
   "mimetype": "text/x-python",
   "name": "python",
   "nbconvert_exporter": "python",
   "pygments_lexer": "ipython3",
   "version": "3.11.0"
  },
  "orig_nbformat": 4
 },
 "nbformat": 4,
 "nbformat_minor": 2
}

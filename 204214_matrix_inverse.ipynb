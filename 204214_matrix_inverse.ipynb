{
 "cells": [
  {
   "cell_type": "markdown",
   "metadata": {},
   "source": [
    "# Code to accept a square matrix and find its determinant"
   ]
  },
  {
   "cell_type": "code",
   "execution_count": 20,
   "metadata": {},
   "outputs": [
    {
     "name": "stdout",
     "output_type": "stream",
     "text": [
      "[[1, 2, 3], [0, 1, 4], [5, 6, 0]]\n"
     ]
    }
   ],
   "source": [
    "n = int(input('Enter dimension of the matrix.'))\n",
    "mat = []\n",
    "for i in range(int(n)):\n",
    "\ttemp = []\n",
    "\tfor j in range(int(n)):\n",
    "\t\ttemp.append(int(input('enter element ({},{}) of the first matrix: '.format(i,j))))\n",
    "\tmat.append(temp)\n",
    "\t\n",
    "print(mat)"
   ]
  },
  {
   "cell_type": "markdown",
   "metadata": {},
   "source": [
    "build_sub_matrix() takes a matrix, its dimensions and the co-ordinates of the element we need to find the submatrix using.\n",
    "It then builds the new submatrix by excluding the row and column in which the element belongs."
   ]
  },
  {
   "cell_type": "code",
   "execution_count": 31,
   "metadata": {},
   "outputs": [],
   "source": [
    "def build_sub_matrix(mat, n, x, y):\n",
    "    t_mat = []\n",
    "    for i in range(n):\n",
    "        temp = []\n",
    "        if i == x: continue\n",
    "        for j in range(n):\n",
    "            if j == y: continue\n",
    "            # print(f'dealing with {i} and {j} with mat value: {mat[i][j]}')\n",
    "            temp.append(mat[i][j])\n",
    "        t_mat.append(temp)\n",
    "    return t_mat\n",
    "\n",
    "# build_sub_matrix(mat,3,1,0)"
   ]
  },
  {
   "cell_type": "code",
   "execution_count": 33,
   "metadata": {},
   "outputs": [],
   "source": [
    "def determinant(mat, n):\n",
    "    det = 0\n",
    "    # print(f'in func: {mat} and {n}')\n",
    "    # print(type(n))\n",
    "    if n == 1:\n",
    "        return mat[0][0]\n",
    "    if n == 2:\n",
    "        # print('calculating det of 2*2 matrix')\n",
    "        det = mat[0][0] * mat[1][1] - mat[0][1] * mat[1][0]\n",
    "        # print(det)\n",
    "        return det\n",
    "    for i in range(n):\n",
    "        # print(f'sign: {(-1)**i} at i = {i}')\n",
    "        det = det + ((-1)**i * mat[0][i] * determinant(build_sub_matrix(mat,n,0,i), n-1))\n",
    "    return det\n",
    "    \n",
    "# det = determinant(mat,int(n))\n",
    "# print(det)"
   ]
  },
  {
   "cell_type": "markdown",
   "metadata": {},
   "source": [
    "## Code to find Cofactor matrix using the determinant function defined above"
   ]
  },
  {
   "cell_type": "code",
   "execution_count": 34,
   "metadata": {},
   "outputs": [],
   "source": [
    "def cofactor_matrix(mat, n):\n",
    "    cofactor_mat = []\n",
    "    for i in range(n):\n",
    "        temp = []\n",
    "        for j in range(n):\n",
    "            # print(f'finding cofactors of {mat[i][j]} at i = {i} and j = {j}')\n",
    "            sub_mat = build_sub_matrix(mat,n, i,j)\n",
    "            # print(sub_mat)\n",
    "            temp.append((-1)**(i+j) * determinant(sub_mat,n-1))\n",
    "        cofactor_mat.append(temp)\n",
    "    return cofactor_mat\n",
    "\n",
    "# cof_mat = cofactor_matrix(mat,n)"
   ]
  },
  {
   "cell_type": "markdown",
   "metadata": {},
   "source": [
    "## Code to find the inverse of the matrix using the Cofactor and Determinant functions"
   ]
  },
  {
   "cell_type": "code",
   "execution_count": 35,
   "metadata": {},
   "outputs": [
    {
     "name": "stdout",
     "output_type": "stream",
     "text": [
      "[[-24.0, 18.0, 5.0], [20.0, -15.0, -4.0], [-5.0, 4.0, 1.0]]\n"
     ]
    }
   ],
   "source": [
    "def transpose(mat, n):\n",
    "    transpose_mat = []\n",
    "    for i in range(n):\n",
    "        temp = []\n",
    "        for j in range(n):\n",
    "            temp.append(mat[j][i])\n",
    "        transpose_mat.append(temp)\n",
    "    return transpose_mat\n",
    "\n",
    "def inverse(mat, n):\n",
    "    inv_mat = []\n",
    "    det = determinant(mat,n)\n",
    "    # print(det)\n",
    "    cof_mat = transpose(cofactor_matrix(mat,n), n)\n",
    "    for i in range(n):\n",
    "        temp = []\n",
    "        # print(type(temp))\n",
    "        for j in range(n):\n",
    "            element = (1/det) * cof_mat[i][j]\n",
    "            temp.append(element)\n",
    "        inv_mat.append(temp)\n",
    "    return inv_mat\n",
    "\n",
    "inverse = inverse(mat,n)\n",
    "print(inverse)\n"
   ]
  }
 ],
 "metadata": {
  "kernelspec": {
   "display_name": "base",
   "language": "python",
   "name": "python3"
  },
  "language_info": {
   "codemirror_mode": {
    "name": "ipython",
    "version": 3
   },
   "file_extension": ".py",
   "mimetype": "text/x-python",
   "name": "python",
   "nbconvert_exporter": "python",
   "pygments_lexer": "ipython3",
   "version": "3.10.9"
  },
  "orig_nbformat": 4
 },
 "nbformat": 4,
 "nbformat_minor": 2
}

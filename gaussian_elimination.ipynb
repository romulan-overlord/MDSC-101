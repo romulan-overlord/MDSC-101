{
 "cells": [
  {
   "cell_type": "code",
   "execution_count": null,
   "metadata": {},
   "outputs": [],
   "source": [
    "unknowns = int(input('Enter number of unknowns: '))\n",
    "\n",
    "A = []\n",
    "b = []\n",
    "\n",
    "for i in range(unknowns):\n",
    "    temp = []\n",
    "    for j in range(unknowns):\n",
    "        temp.append(int(input(f'Enter coefficient of x{j+1} in eq {i+1}: ')))\n",
    "    temp.append(int(input(f'Enter constant in RHS for eq {i+1}: ')))\n",
    "    A.append(temp)\n",
    "\n",
    "print(A, b)"
   ]
  },
  {
   "cell_type": "code",
   "execution_count": 2,
   "metadata": {},
   "outputs": [],
   "source": [
    "unknowns = 3\n",
    "# A = [\n",
    "#     [5,9,3,0],\n",
    "#     [-3,5,6,0],\n",
    "#     [-1,-5,-3,0]\n",
    "# ]\n",
    "# A = [\n",
    "#     [1,1,1,7],\n",
    "#     [3,-2,-2,4],\n",
    "#     [1,6,5,24]\n",
    "# ]\n",
    "# 2x + 3y - z = 5\n",
    "# 4x + 2y + z = 10\n",
    "# 6x + y - 3z = 8\n",
    "# A = [\n",
    "#     [2,3,-1,5],\n",
    "#     [4,2,1,10],\n",
    "#     [6,1,-3,8]\n",
    "# ]\n",
    "A = [\n",
    "    [1,-3,1,4],\n",
    "    [0,-1,-4,7],\n",
    "    [0,2,8,-12]\n",
    "]"
   ]
  },
  {
   "cell_type": "code",
   "execution_count": 3,
   "metadata": {},
   "outputs": [],
   "source": [
    "def sub_pivot_row(pivot_row, row, index):\n",
    "    mul = row[index]\n",
    "    temp = []\n",
    "    for i in range(unknowns + 1):\n",
    "        temp.append(row[i] - (pivot_row[i] * mul))\n",
    "\n",
    "    print(f'returning from sub mul={mul}, temp = {temp}, index = {index}')\n",
    "    return temp"
   ]
  },
  {
   "cell_type": "code",
   "execution_count": 7,
   "metadata": {},
   "outputs": [
    {
     "name": "stdout",
     "output_type": "stream",
     "text": [
      "3\n",
      "pivot = 1.0 in position 0 0\n",
      "in run i = 0, with pivot = 1.0 in row = [1.0, -3.0, 1.0, 4.0]\n",
      "returning from sub mul=0.0, temp = [0.0, 1.0, 4.0, -7.0], index = 0\n",
      "returning from sub mul=0.0, temp = [0.0, 0.0, 0.0, 2.0], index = 0\n",
      "iteration = 1, A = [[1.0, -3.0, 1.0, 4.0], [0.0, 1.0, 4.0, -7.0], [0.0, 0.0, 0.0, 2.0]]\n",
      "pivot = 1.0 in position 1 1\n",
      "in run i = 1, with pivot = 1.0 in row = [0.0, 1.0, 4.0, -7.0]\n",
      "returning from sub mul=0.0, temp = [0.0, 0.0, 0.0, 2.0], index = 1\n",
      "iteration = 2, A = [[1.0, -3.0, 1.0, 4.0], [0.0, 1.0, 4.0, -7.0], [0.0, 0.0, 0.0, 2.0]]\n",
      "pivot = 0.0 in position 2 2\n",
      "[[1.0, -3.0, 1.0, 4.0], [0.0, 1.0, 4.0, -7.0], [0.0, 0.0, 0.0, 2.0]] 2\n"
     ]
    }
   ],
   "source": [
    "i = 0\n",
    "j = 0\n",
    "rank = 0\n",
    "print(unknowns)\n",
    "\n",
    "while(i < unknowns and j <= unknowns):\n",
    "    if A[i][j] == 0 and (i + 1) < unknowns:\n",
    "        l = i + 1\n",
    "        while(j <= unknowns):\n",
    "            swap_flag = False\n",
    "            while(l < unknowns):\n",
    "                if A[l][j] != 0:\n",
    "                    temp = A[i]\n",
    "                    A[i] = A[l]\n",
    "                    A[l] = temp\n",
    "                    swap_flag = True\n",
    "                    break\n",
    "                l += 1\n",
    "            if swap_flag: break\n",
    "            j += 1\n",
    "    if i >= unknowns or j > unknowns: break\n",
    "    pivot = A[i][j]\n",
    "    print(f'pivot = {pivot} in position {i} {j}')\n",
    "    if pivot == 0: break\n",
    "    A[i] = [r/pivot for r in A[i]]\n",
    "    print(f'in run i = {i}, with pivot = {pivot} in row = {A[i]}')\n",
    "    k = i+1\n",
    "    rank += 1\n",
    "    while(k < unknowns):\n",
    "        A[k] = sub_pivot_row(A[i], A[k], j)\n",
    "        k += 1\n",
    "    i += 1\n",
    "    j += 1\n",
    "    print(f'iteration = {i}, A = {A}')\n",
    "\n",
    "print(A, rank)\n",
    "\n"
   ]
  }
 ],
 "metadata": {
  "kernelspec": {
   "display_name": "base",
   "language": "python",
   "name": "python3"
  },
  "language_info": {
   "codemirror_mode": {
    "name": "ipython",
    "version": 3
   },
   "file_extension": ".py",
   "mimetype": "text/x-python",
   "name": "python",
   "nbconvert_exporter": "python",
   "pygments_lexer": "ipython3",
   "version": "3.10.9"
  },
  "orig_nbformat": 4
 },
 "nbformat": 4,
 "nbformat_minor": 2
}

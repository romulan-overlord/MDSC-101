{
 "cells": [
  {
   "cell_type": "code",
   "execution_count": 1,
   "metadata": {},
   "outputs": [],
   "source": [
    "import numpy as np\n",
    "import pandas as pd\n",
    "import matplotlib.pyplot as plt\n",
    "from PIL import Image\n",
    "\n",
    "import glob"
   ]
  },
  {
   "cell_type": "markdown",
   "metadata": {},
   "source": [
    "## Image Pre-Processing"
   ]
  },
  {
   "cell_type": "code",
   "execution_count": 27,
   "metadata": {},
   "outputs": [
    {
     "name": "stdout",
     "output_type": "stream",
     "text": [
      "[[255]\n",
      " [255]\n",
      " [255]\n",
      " ...\n",
      " [255]\n",
      " [255]\n",
      " [255]]\n"
     ]
    }
   ],
   "source": [
    "# Open the image using PIL\n",
    "image_pil = Image.open('./Caltech_WebFaces/pic00001.jpg')  # Replace 'image.jpg' with the path to your image file\n",
    "image_pil = image_pil.convert('L')\n",
    "# Convert the PIL image to a NumPy array\n",
    "image = np.array(image_pil)\n",
    "\n",
    "# 'image' is now a NumPy array containing the image data\n",
    "print(np.array([image.T.ravel()]).T)\n"
   ]
  },
  {
   "cell_type": "code",
   "execution_count": 20,
   "metadata": {},
   "outputs": [
    {
     "name": "stdout",
     "output_type": "stream",
     "text": [
      "[[1 1]\n",
      " [4 4]\n",
      " [7 7]\n",
      " [2 2]\n",
      " [5 5]\n",
      " [8 8]\n",
      " [3 3]\n",
      " [6 6]\n",
      " [9 9]]\n"
     ]
    }
   ],
   "source": [
    "# Create a 2D NumPy matrix\n",
    "matrix = np.array([[1, 2, 3],\n",
    "                   [4, 5, 6],\n",
    "                   [7, 8, 9]])\n",
    "\n",
    "# Use numpy.ravel() to stack the columns into a column vector\n",
    "column_vector = np.array([matrix.T.ravel()])\n",
    "\n",
    "# Print the resulting column vector\n",
    "print(np.column_stack([column_vector.T, column_vector.T]))\n"
   ]
  },
  {
   "cell_type": "code",
   "execution_count": 13,
   "metadata": {},
   "outputs": [],
   "source": [
    "filez = glob.glob('./Caltech_WebFaces/set_1/*.jpg')  \n",
    "filez = [file.replace('\\\\', '/') for file in filez]"
   ]
  },
  {
   "cell_type": "code",
   "execution_count": 12,
   "metadata": {},
   "outputs": [],
   "source": [
    "for file in filez:\n",
    "    width, height = 50, 50\n",
    "    white_image = Image.new('RGB', (width, height), color='white')\n",
    "    image_to_paste = Image.open(file)  # Replace with the path to your image\n",
    "\n",
    "    original_width, original_height = image_to_paste.size\n",
    "\n",
    "    # Set the maximum dimension (either width or height) to 500 pixels\n",
    "    max_dimension = 200\n",
    "\n",
    "    # Calculate the new dimensions while preserving the aspect ratio\n",
    "    if original_width > original_height:\n",
    "        new_width = max_dimension\n",
    "        new_height = int(max_dimension * (original_height / original_width))\n",
    "    else:\n",
    "        new_height = max_dimension\n",
    "        new_width = int(max_dimension * (original_width / original_height))\n",
    "\n",
    "    # Resize the image\n",
    "    resized_image = image_to_paste.resize((new_width, new_height), Image.Resampling.LANCZOS)\n",
    "\n",
    "    # Calculate the position to paste the image in the center\n",
    "    x_position = (white_image.width - resized_image.width) // 2\n",
    "    y_position = (white_image.height - resized_image.height) // 2\n",
    "\n",
    "    # Paste the image onto the white image\n",
    "    white_image.paste(resized_image, (x_position, y_position))\n",
    "\n",
    "    # Save the combined image or display it\n",
    "    white_image.save(file)\n",
    "    # Close the images\n",
    "    white_image.close()\n",
    "    image_to_paste.close()"
   ]
  },
  {
   "cell_type": "markdown",
   "metadata": {},
   "source": [
    "# Loading Images"
   ]
  },
  {
   "cell_type": "code",
   "execution_count": 6,
   "metadata": {},
   "outputs": [],
   "source": [
    "image_list = []\n",
    "\n",
    "max_x = 0\n",
    "max_y = 0\n",
    "\n",
    "for file in filez:\n",
    "    # print(f'Opening: {file}')\n",
    "    image = Image.open(file)\n",
    "    image = image.convert('L')\n",
    "    image_vector = np.array(image)\n",
    "    image_list.append(np.array([image_vector.T.ravel()]).T)"
   ]
  },
  {
   "cell_type": "code",
   "execution_count": 10,
   "metadata": {},
   "outputs": [],
   "source": [
    "final_matrix = np.column_stack(image_list)"
   ]
  },
  {
   "cell_type": "code",
   "execution_count": 12,
   "metadata": {},
   "outputs": [
    {
     "data": {
      "text/plain": [
       "(40000, 7092)"
      ]
     },
     "execution_count": 12,
     "metadata": {},
     "output_type": "execute_result"
    }
   ],
   "source": [
    "final_matrix.shape"
   ]
  },
  {
   "cell_type": "code",
   "execution_count": 56,
   "metadata": {},
   "outputs": [],
   "source": [
    "output = np.linalg.svd(final_matrix)"
   ]
  },
  {
   "cell_type": "code",
   "execution_count": 58,
   "metadata": {},
   "outputs": [
    {
     "data": {
      "text/plain": [
       "array([[0., 0., 0., ..., 0., 0., 0.],\n",
       "       [0., 0., 0., ..., 0., 0., 0.],\n",
       "       [0., 0., 0., ..., 0., 0., 0.],\n",
       "       ...,\n",
       "       [0., 0., 0., ..., 0., 0., 0.],\n",
       "       [0., 0., 0., ..., 0., 0., 0.],\n",
       "       [0., 0., 0., ..., 0., 0., 0.]])"
      ]
     },
     "execution_count": 58,
     "metadata": {},
     "output_type": "execute_result"
    }
   ],
   "source": [
    "output[0]"
   ]
  },
  {
   "cell_type": "code",
   "execution_count": 5,
   "metadata": {},
   "outputs": [],
   "source": [
    "img = Image.open('./pic00005.jpg')\n",
    "resized_image = img.resize((50, 50), Image.Resampling.LANCZOS)"
   ]
  },
  {
   "cell_type": "code",
   "execution_count": 15,
   "metadata": {},
   "outputs": [],
   "source": [
    "for file in filez:\n",
    "    width, height = 64, 64\n",
    "    white_image = Image.new('RGB', (width, height), color='white')\n",
    "    image_to_paste = Image.open(file)  # Replace with the path to your image\n",
    "\n",
    "    original_width, original_height = image_to_paste.size\n",
    "\n",
    "    # Set the maximum dimension (either width or height) to 500 pixels\n",
    "    max_dimension = 64\n",
    "\n",
    "    # Calculate the new dimensions while preserving the aspect ratio\n",
    "    if original_width > original_height:\n",
    "        new_width = max_dimension\n",
    "        new_height = int(max_dimension * (original_height / original_width))\n",
    "    else:\n",
    "        new_height = max_dimension\n",
    "        new_width = int(max_dimension * (original_width / original_height))\n",
    "\n",
    "    # Resize the image\n",
    "    resized_image = image_to_paste.resize((new_width, new_height), Image.Resampling.LANCZOS)\n",
    "    # Calculate the position to paste the image in the center\n",
    "    x_position = (white_image.width - resized_image.width) // 2\n",
    "    y_position = (white_image.height - resized_image.height) // 2\n",
    "\n",
    "    # Paste the image onto the white image\n",
    "    white_image.paste(resized_image, (x_position, y_position))\n",
    "\n",
    "    white_image.save(file)\n",
    "    white_image.close()\n",
    "    image_to_paste.close()"
   ]
  }
 ],
 "metadata": {
  "kernelspec": {
   "display_name": "Code",
   "language": "python",
   "name": "python3"
  },
  "language_info": {
   "codemirror_mode": {
    "name": "ipython",
    "version": 3
   },
   "file_extension": ".py",
   "mimetype": "text/x-python",
   "name": "python",
   "nbconvert_exporter": "python",
   "pygments_lexer": "ipython3",
   "version": "3.11.0"
  },
  "orig_nbformat": 4
 },
 "nbformat": 4,
 "nbformat_minor": 2
}
